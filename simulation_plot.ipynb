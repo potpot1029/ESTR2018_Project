{
 "cells": [
  {
   "cell_type": "code",
   "execution_count": 17,
   "metadata": {},
   "outputs": [],
   "source": [
    "import numpy as np\n",
    "import matplotlib.pyplot as plt\n",
    "import pandas as pd"
   ]
  },
  {
   "cell_type": "code",
   "execution_count": 18,
   "metadata": {},
   "outputs": [
    {
     "data": {
      "text/html": [
       "<div>\n",
       "<style scoped>\n",
       "    .dataframe tbody tr th:only-of-type {\n",
       "        vertical-align: middle;\n",
       "    }\n",
       "\n",
       "    .dataframe tbody tr th {\n",
       "        vertical-align: top;\n",
       "    }\n",
       "\n",
       "    .dataframe thead th {\n",
       "        text-align: right;\n",
       "    }\n",
       "</style>\n",
       "<table border=\"1\" class=\"dataframe\">\n",
       "  <thead>\n",
       "    <tr style=\"text-align: right;\">\n",
       "      <th></th>\n",
       "      <th>No of Moves</th>\n",
       "      <th>Probability</th>\n",
       "    </tr>\n",
       "  </thead>\n",
       "  <tbody>\n",
       "    <tr>\n",
       "      <th>0</th>\n",
       "      <td>898</td>\n",
       "      <td>0.000001</td>\n",
       "    </tr>\n",
       "    <tr>\n",
       "      <th>1</th>\n",
       "      <td>900</td>\n",
       "      <td>0.000001</td>\n",
       "    </tr>\n",
       "    <tr>\n",
       "      <th>2</th>\n",
       "      <td>901</td>\n",
       "      <td>0.000003</td>\n",
       "    </tr>\n",
       "    <tr>\n",
       "      <th>3</th>\n",
       "      <td>902</td>\n",
       "      <td>0.000004</td>\n",
       "    </tr>\n",
       "    <tr>\n",
       "      <th>4</th>\n",
       "      <td>903</td>\n",
       "      <td>0.000003</td>\n",
       "    </tr>\n",
       "    <tr>\n",
       "      <th>...</th>\n",
       "      <td>...</td>\n",
       "      <td>...</td>\n",
       "    </tr>\n",
       "    <tr>\n",
       "      <th>76</th>\n",
       "      <td>975</td>\n",
       "      <td>0.000003</td>\n",
       "    </tr>\n",
       "    <tr>\n",
       "      <th>77</th>\n",
       "      <td>976</td>\n",
       "      <td>0.000002</td>\n",
       "    </tr>\n",
       "    <tr>\n",
       "      <th>78</th>\n",
       "      <td>977</td>\n",
       "      <td>0.000001</td>\n",
       "    </tr>\n",
       "    <tr>\n",
       "      <th>79</th>\n",
       "      <td>978</td>\n",
       "      <td>0.000002</td>\n",
       "    </tr>\n",
       "    <tr>\n",
       "      <th>80</th>\n",
       "      <td>982</td>\n",
       "      <td>0.000001</td>\n",
       "    </tr>\n",
       "  </tbody>\n",
       "</table>\n",
       "<p>81 rows × 2 columns</p>\n",
       "</div>"
      ],
      "text/plain": [
       "    No of Moves  Probability\n",
       "0           898     0.000001\n",
       "1           900     0.000001\n",
       "2           901     0.000003\n",
       "3           902     0.000004\n",
       "4           903     0.000003\n",
       "..          ...          ...\n",
       "76          975     0.000003\n",
       "77          976     0.000002\n",
       "78          977     0.000001\n",
       "79          978     0.000002\n",
       "80          982     0.000001\n",
       "\n",
       "[81 rows x 2 columns]"
      ]
     },
     "metadata": {},
     "output_type": "display_data"
    }
   ],
   "source": [
    "# read moves.csv file\n",
    "moves_data = pd.read_csv('moves.csv', index_col=0)\n",
    "moves_df = pd.DataFrame(moves_data)\n",
    "display(moves_df)"
   ]
  },
  {
   "cell_type": "code",
   "execution_count": 19,
   "metadata": {},
   "outputs": [
    {
     "data": {
      "text/html": [
       "<div>\n",
       "<style scoped>\n",
       "    .dataframe tbody tr th:only-of-type {\n",
       "        vertical-align: middle;\n",
       "    }\n",
       "\n",
       "    .dataframe tbody tr th {\n",
       "        vertical-align: top;\n",
       "    }\n",
       "\n",
       "    .dataframe thead th {\n",
       "        text-align: right;\n",
       "    }\n",
       "</style>\n",
       "<table border=\"1\" class=\"dataframe\">\n",
       "  <thead>\n",
       "    <tr style=\"text-align: right;\">\n",
       "      <th></th>\n",
       "      <th>No of Moves</th>\n",
       "    </tr>\n",
       "  </thead>\n",
       "  <tbody>\n",
       "    <tr>\n",
       "      <th>count</th>\n",
       "      <td>81.000000</td>\n",
       "    </tr>\n",
       "    <tr>\n",
       "      <th>mean</th>\n",
       "      <td>939.024691</td>\n",
       "    </tr>\n",
       "    <tr>\n",
       "      <th>std</th>\n",
       "      <td>23.614072</td>\n",
       "    </tr>\n",
       "    <tr>\n",
       "      <th>min</th>\n",
       "      <td>898.000000</td>\n",
       "    </tr>\n",
       "    <tr>\n",
       "      <th>25%</th>\n",
       "      <td>919.000000</td>\n",
       "    </tr>\n",
       "    <tr>\n",
       "      <th>50%</th>\n",
       "      <td>939.000000</td>\n",
       "    </tr>\n",
       "    <tr>\n",
       "      <th>75%</th>\n",
       "      <td>959.000000</td>\n",
       "    </tr>\n",
       "    <tr>\n",
       "      <th>max</th>\n",
       "      <td>982.000000</td>\n",
       "    </tr>\n",
       "  </tbody>\n",
       "</table>\n",
       "</div>"
      ],
      "text/plain": [
       "       No of Moves\n",
       "count    81.000000\n",
       "mean    939.024691\n",
       "std      23.614072\n",
       "min     898.000000\n",
       "25%     919.000000\n",
       "50%     939.000000\n",
       "75%     959.000000\n",
       "max     982.000000"
      ]
     },
     "metadata": {},
     "output_type": "display_data"
    }
   ],
   "source": [
    "# display summary statistics of data\n",
    "display(moves_data[[\"No of Moves\"]].describe())"
   ]
  },
  {
   "cell_type": "code",
   "execution_count": 20,
   "metadata": {},
   "outputs": [
    {
     "data": {
      "text/plain": [
       "939.0246913580247"
      ]
     },
     "execution_count": 20,
     "metadata": {},
     "output_type": "execute_result"
    }
   ],
   "source": [
    "moves_df[\"No of Moves\"].mean()"
   ]
  },
  {
   "cell_type": "code",
   "execution_count": 21,
   "metadata": {},
   "outputs": [
    {
     "data": {
      "text/plain": [
       "<matplotlib.lines.Line2D at 0x17a9675b0>"
      ]
     },
     "execution_count": 21,
     "metadata": {},
     "output_type": "execute_result"
    },
    {
     "data": {
      "image/png": "[encoded data removed]",
      "text/plain": [
       "<Figure size 640x480 with 1 Axes>"
      ]
     },
     "metadata": {},
     "output_type": "display_data"
    }
   ],
   "source": [
    "# plot bar chart for expected move\n",
    "plt.bar(moves_df['No of Moves'], moves_df['Probability'])\n",
    "plt.title('Number of moves to win')\n",
    "plt.xlabel('Number of moves')\n",
    "plt.ylabel('Probability')\n",
    "\n",
    "plt.axvline(x = moves_df[\"No of Moves\"].mean(), color = 'r', label = 'mean')\n"
   ]
  },
  {
   "cell_type": "code",
   "execution_count": 22,
   "metadata": {},
   "outputs": [
    {
     "data": {
      "text/html": [
       "<div>\n",
       "<style scoped>\n",
       "    .dataframe tbody tr th:only-of-type {\n",
       "        vertical-align: middle;\n",
       "    }\n",
       "\n",
       "    .dataframe tbody tr th {\n",
       "        vertical-align: top;\n",
       "    }\n",
       "\n",
       "    .dataframe thead th {\n",
       "        text-align: right;\n",
       "    }\n",
       "</style>\n",
       "<table border=\"1\" class=\"dataframe\">\n",
       "  <thead>\n",
       "    <tr style=\"text-align: right;\">\n",
       "      <th></th>\n",
       "      <th>Absorbing State</th>\n",
       "      <th>Absorbing Probability</th>\n",
       "      <th>Sum</th>\n",
       "    </tr>\n",
       "  </thead>\n",
       "  <tbody>\n",
       "    <tr>\n",
       "      <th>0</th>\n",
       "      <td>[2, 4, 16, 2048]</td>\n",
       "      <td>0.291240</td>\n",
       "      <td>2070</td>\n",
       "    </tr>\n",
       "    <tr>\n",
       "      <th>1</th>\n",
       "      <td>[2, 2, 4, 16, 2048]</td>\n",
       "      <td>0.141335</td>\n",
       "      <td>2072</td>\n",
       "    </tr>\n",
       "    <tr>\n",
       "      <th>2</th>\n",
       "      <td>[2, 2, 8, 8, 2048]</td>\n",
       "      <td>0.347872</td>\n",
       "      <td>2068</td>\n",
       "    </tr>\n",
       "    <tr>\n",
       "      <th>3</th>\n",
       "      <td>[4, 4, 4, 16, 2048]</td>\n",
       "      <td>0.002647</td>\n",
       "      <td>2076</td>\n",
       "    </tr>\n",
       "    <tr>\n",
       "      <th>4</th>\n",
       "      <td>[4, 4, 16, 2048]</td>\n",
       "      <td>0.032211</td>\n",
       "      <td>2072</td>\n",
       "    </tr>\n",
       "    <tr>\n",
       "      <th>5</th>\n",
       "      <td>[2, 4, 8, 8, 2048]</td>\n",
       "      <td>0.077279</td>\n",
       "      <td>2070</td>\n",
       "    </tr>\n",
       "    <tr>\n",
       "      <th>6</th>\n",
       "      <td>[2, 4, 4, 16, 2048]</td>\n",
       "      <td>0.039499</td>\n",
       "      <td>2074</td>\n",
       "    </tr>\n",
       "    <tr>\n",
       "      <th>7</th>\n",
       "      <td>[2, 4, 4, 8, 2048]</td>\n",
       "      <td>0.035075</td>\n",
       "      <td>2066</td>\n",
       "    </tr>\n",
       "    <tr>\n",
       "      <th>8</th>\n",
       "      <td>[2, 8, 16, 2048]</td>\n",
       "      <td>0.012390</td>\n",
       "      <td>2074</td>\n",
       "    </tr>\n",
       "    <tr>\n",
       "      <th>9</th>\n",
       "      <td>[4, 4, 8, 8, 2048]</td>\n",
       "      <td>0.004248</td>\n",
       "      <td>2072</td>\n",
       "    </tr>\n",
       "    <tr>\n",
       "      <th>10</th>\n",
       "      <td>[4, 8, 16, 2048]</td>\n",
       "      <td>0.001325</td>\n",
       "      <td>2076</td>\n",
       "    </tr>\n",
       "    <tr>\n",
       "      <th>11</th>\n",
       "      <td>[2, 2, 16, 2048]</td>\n",
       "      <td>0.003885</td>\n",
       "      <td>2068</td>\n",
       "    </tr>\n",
       "    <tr>\n",
       "      <th>12</th>\n",
       "      <td>[4, 4, 4, 8, 2048]</td>\n",
       "      <td>0.003841</td>\n",
       "      <td>2068</td>\n",
       "    </tr>\n",
       "    <tr>\n",
       "      <th>13</th>\n",
       "      <td>[2, 4, 8, 16, 2048]</td>\n",
       "      <td>0.001308</td>\n",
       "      <td>2078</td>\n",
       "    </tr>\n",
       "    <tr>\n",
       "      <th>14</th>\n",
       "      <td>[2, 2, 8, 16, 2048]</td>\n",
       "      <td>0.005728</td>\n",
       "      <td>2076</td>\n",
       "    </tr>\n",
       "    <tr>\n",
       "      <th>15</th>\n",
       "      <td>[2, 2, 4, 8, 16, 2048]</td>\n",
       "      <td>0.000043</td>\n",
       "      <td>2080</td>\n",
       "    </tr>\n",
       "    <tr>\n",
       "      <th>16</th>\n",
       "      <td>[4, 4, 8, 16, 2048]</td>\n",
       "      <td>0.000069</td>\n",
       "      <td>2080</td>\n",
       "    </tr>\n",
       "    <tr>\n",
       "      <th>17</th>\n",
       "      <td>[2, 4, 4, 8, 16, 2048]</td>\n",
       "      <td>0.000003</td>\n",
       "      <td>2082</td>\n",
       "    </tr>\n",
       "    <tr>\n",
       "      <th>18</th>\n",
       "      <td>[2, 8, 8, 16, 2048]</td>\n",
       "      <td>0.000002</td>\n",
       "      <td>2082</td>\n",
       "    </tr>\n",
       "  </tbody>\n",
       "</table>\n",
       "</div>"
      ],
      "text/plain": [
       "           Absorbing State  Absorbing Probability   Sum\n",
       "0         [2, 4, 16, 2048]               0.291240  2070\n",
       "1      [2, 2, 4, 16, 2048]               0.141335  2072\n",
       "2       [2, 2, 8, 8, 2048]               0.347872  2068\n",
       "3      [4, 4, 4, 16, 2048]               0.002647  2076\n",
       "4         [4, 4, 16, 2048]               0.032211  2072\n",
       "5       [2, 4, 8, 8, 2048]               0.077279  2070\n",
       "6      [2, 4, 4, 16, 2048]               0.039499  2074\n",
       "7       [2, 4, 4, 8, 2048]               0.035075  2066\n",
       "8         [2, 8, 16, 2048]               0.012390  2074\n",
       "9       [4, 4, 8, 8, 2048]               0.004248  2072\n",
       "10        [4, 8, 16, 2048]               0.001325  2076\n",
       "11        [2, 2, 16, 2048]               0.003885  2068\n",
       "12      [4, 4, 4, 8, 2048]               0.003841  2068\n",
       "13     [2, 4, 8, 16, 2048]               0.001308  2078\n",
       "14     [2, 2, 8, 16, 2048]               0.005728  2076\n",
       "15  [2, 2, 4, 8, 16, 2048]               0.000043  2080\n",
       "16     [4, 4, 8, 16, 2048]               0.000069  2080\n",
       "17  [2, 4, 4, 8, 16, 2048]               0.000003  2082\n",
       "18     [2, 8, 8, 16, 2048]               0.000002  2082"
      ]
     },
     "metadata": {},
     "output_type": "display_data"
    }
   ],
   "source": [
    "# read absorbing_states.csv file\n",
    "absorbing_state_data = pd.read_csv('absorbing_probabilities_simulation.csv', index_col=0)\n",
    "absorbing_state_df = pd.DataFrame(absorbing_state_data)\n",
    "display(absorbing_state_df)"
   ]
  },
  {
   "cell_type": "code",
   "execution_count": 26,
   "metadata": {},
   "outputs": [
    {
     "data": {
      "text/plain": [
       "[None,\n",
       " None,\n",
       " None,\n",
       " None,\n",
       " None,\n",
       " None,\n",
       " None,\n",
       " None,\n",
       " None,\n",
       " None,\n",
       " None,\n",
       " None,\n",
       " None,\n",
       " None,\n",
       " None,\n",
       " None,\n",
       " None,\n",
       " None,\n",
       " None,\n",
       " None,\n",
       " None,\n",
       " None,\n",
       " None,\n",
       " None,\n",
       " None,\n",
       " None,\n",
       " None,\n",
       " None,\n",
       " None,\n",
       " None,\n",
       " None,\n",
       " None,\n",
       " None,\n",
       " None,\n",
       " None,\n",
       " None,\n",
       " None,\n",
       " None,\n",
       " None,\n",
       " None,\n",
       " None,\n",
       " None,\n",
       " None,\n",
       " None,\n",
       " None]"
      ]
     },
     "execution_count": 26,
     "metadata": {},
     "output_type": "execute_result"
    },
    {
     "data": {
      "image/png": "[encoded data removed]",
      "text/plain": [
       "<Figure size 640x480 with 1 Axes>"
      ]
     },
     "metadata": {},
     "output_type": "display_data"
    }
   ],
   "source": [
    "# plot absorbing probability (states)\n",
    "sub_absorbing_state_df = absorbing_state_df[absorbing_state_df['Absorbing Probability'] >= 1e-4]\n",
    "mapping = {2066: \"red\", 2068: \"orange\", 2070: \"yellow\", 2072: \"green\", 2074: \"blue\", 2076: \"darkblue\", 2078: \"purple\"}\n",
    "\n",
    "fig, ax = plt.subplots()\n",
    "\n",
    "for special_value in mapping:\n",
    "    selected_df = sub_absorbing_state_df[sub_absorbing_state_df['Sum'] == special_value] \n",
    "    plt.bar(selected_df['Absorbing State'], selected_df['Absorbing Probability'], color=mapping[special_value], label=special_value)\n",
    "plt.title('Absorbing Probabilities')\n",
    "plt.xlabel('Absorbing State')\n",
    "plt.ylabel('Absorbing Probability')\n",
    "plt.legend()\n",
    "\n",
    "plt.setp(ax.get_xticklabels(), fontsize=10, rotation='vertical')\n"
   ]
  },
  {
   "cell_type": "code",
   "execution_count": 24,
   "metadata": {},
   "outputs": [
    {
     "data": {
      "text/plain": [
       "[2066, 2068, 2070, 2072, 2074, 2076, 2078]"
      ]
     },
     "execution_count": 24,
     "metadata": {},
     "output_type": "execute_result"
    }
   ],
   "source": [
    "# sum \n",
    "sorted(sub_absorbing_state_df['Sum'].unique())"
   ]
  },
  {
   "cell_type": "code",
   "execution_count": 25,
   "metadata": {},
   "outputs": [
    {
     "data": {
      "text/plain": [
       "Text(0, 0.5, 'Absorbing Probability')"
      ]
     },
     "execution_count": 25,
     "metadata": {},
     "output_type": "execute_result"
    },
    {
     "data": {
      "image/png": "[encoded data removed]",
      "text/plain": [
       "<Figure size 640x480 with 1 Axes>"
      ]
     },
     "metadata": {},
     "output_type": "display_data"
    }
   ],
   "source": [
    "# plot absorbing probability (sum)\n",
    "\n",
    "fig, ax = plt.subplots()\n",
    "plt.bar(sub_absorbing_state_df['Sum'], sub_absorbing_state_df['Absorbing Probability'])\n",
    "plt.title('Absorbing Probabilities')\n",
    "plt.xlabel('Sum of tile values')\n",
    "plt.ylabel('Absorbing Probability')\n"
   ]
  }
 ],
 "metadata": {
  "kernelspec": {
   "display_name": "Python 3.10.8 64-bit",
   "language": "python",
   "name": "python3"
  },
  "language_info": {
   "codemirror_mode": {
    "name": "ipython",
    "version": 3
   },
   "file_extension": ".py",
   "mimetype": "text/x-python",
   "name": "python",
   "nbconvert_exporter": "python",
   "pygments_lexer": "ipython3",
   "version": "3.10.8"
  },
  "orig_nbformat": 4,
  "vscode": {
   "interpreter": {
    "hash": "b0fa6594d8f4cbf19f97940f81e996739fb7646882a419484c72d19e05852a7e"
   }
  }
 },
 "nbformat": 4,
 "nbformat_minor": 2
}
