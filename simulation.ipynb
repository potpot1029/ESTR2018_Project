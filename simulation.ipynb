{
 "cells": [
  {
   "cell_type": "code",
   "execution_count": 2,
   "metadata": {},
   "outputs": [],
   "source": [
    "import random\n",
    "import csv"
   ]
  },
  {
   "cell_type": "code",
   "execution_count": 3,
   "metadata": {},
   "outputs": [],
   "source": [
    "# write states to .csv\n",
    "def save_states(states):\n",
    "    with open('states.csv', mode='w') as csv_file:\n",
    "        csv_writer = csv.writer(csv_file)\n",
    "        csv_writer.writerow(['States'])\n",
    "\n",
    "        for state in states:\n",
    "            csv_writer.writerow([state])"
   ]
  },
  {
   "cell_type": "code",
   "execution_count": 4,
   "metadata": {},
   "outputs": [],
   "source": [
    "# write expected moves to .csv\n",
    "def save_moves(moves):\n",
    "    with open('moves.csv', mode='w') as csv_file:\n",
    "        csv_writer = csv.writer(csv_file)\n",
    "        csv_writer.writerow(['No of Moves', 'Probability'])\n",
    "\n",
    "        for move in moves:\n",
    "            csv_writer.writerow([move, moves[move]])"
   ]
  },
  {
   "cell_type": "code",
   "execution_count": 5,
   "metadata": {},
   "outputs": [],
   "source": [
    "def generate():\n",
    "    # probability of getting a 2 = 0.9, probability of getting a 4 = 0.1\n",
    "    return (2 if random.random() < 0.9 else 4)\n"
   ]
  },
  {
   "cell_type": "code",
   "execution_count": 7,
   "metadata": {},
   "outputs": [],
   "source": [
    "def simulate():\n",
    "    state = [0]\n",
    "    no_of_moves = 0\n",
    "    while state[-1] != 2048:\n",
    "        new_state = []\n",
    "        if len(state) == 1:\n",
    "            # generate two random tiles\n",
    "            new_state.append(generate())\n",
    "            new_state.append(generate())\n",
    "        else:\n",
    "            # merging\n",
    "            i = 0\n",
    "            while i < len(state):\n",
    "                if i < len(state) - 1 and state[i] == state[i+1]:\n",
    "                    new_state.append(state[i] * 2)\n",
    "                    i += 2\n",
    "                else:\n",
    "                    new_state.append(state[i])\n",
    "                    i += 1\n",
    "\n",
    "            # generate a new cell\n",
    "            new_state.append(generate())\n",
    "\n",
    "        # disregard order\n",
    "        state = new_state\n",
    "        state.sort()\n",
    "\n",
    "        if state not in states:\n",
    "            states.append(state)\n",
    "        no_of_moves += 1\n",
    "    return no_of_moves\n",
    "\n",
    "\n",
    "\n",
    "\n",
    "no_of_trials = 100000\n",
    "states = []\n",
    "moves = {}\n",
    "\n",
    "for _ in range(no_of_trials):\n",
    "    move = simulate()\n",
    "    \n",
    "    if move in moves:\n",
    "        moves[move] += 1\n",
    "    else:\n",
    "        moves[move] = 1\n",
    "\n",
    "# sort the states and moves\n",
    "states.sort()\n",
    "moves.sort()"
   ]
  },
  {
   "cell_type": "code",
   "execution_count": 15,
   "metadata": {},
   "outputs": [],
   "source": [
    "for move in moves:\n",
    "    moves[move] /= no_of_trials\n",
    "\n",
    "save_states(states)\n",
    "save_moves(moves)"
   ]
  }
 ],
 "metadata": {
  "kernelspec": {
   "display_name": "Python 3.8.3 64-bit",
   "language": "python",
   "name": "python3"
  },
  "language_info": {
   "codemirror_mode": {
    "name": "ipython",
    "version": 3
   },
   "file_extension": ".py",
   "mimetype": "text/x-python",
   "name": "python",
   "nbconvert_exporter": "python",
   "pygments_lexer": "ipython3",
   "version": "3.8.3"
  },
  "orig_nbformat": 4,
  "vscode": {
   "interpreter": {
    "hash": "aee8b7b246df8f9039afb4144a1f6fd8d2ca17a180786b69acc140d282b71a49"
   }
  }
 },
 "nbformat": 4,
 "nbformat_minor": 2
}
