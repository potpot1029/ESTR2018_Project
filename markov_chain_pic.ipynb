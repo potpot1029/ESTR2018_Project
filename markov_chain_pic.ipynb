{
 "cells": [
  {
   "cell_type": "code",
   "execution_count": 1,
   "metadata": {},
   "outputs": [],
   "source": [
    "%load_ext dotmagic"
   ]
  },
  {
   "cell_type": "code",
   "execution_count": 2,
   "metadata": {},
   "outputs": [
    {
     "data": {
      "image/svg+xml": "<svg xmlns=\"http://www.w3.org/2000/svg\" xmlns:xlink=\"http://www.w3.org/1999/xlink\" width=\"242pt\" height=\"131pt\" viewBox=\"0.00 0.00 242.29 131.00\">\n<g id=\"graph0\" class=\"graph\" transform=\"scale(1 1) rotate(0) translate(4 127)\">\n<title>G</title>\n<polygon fill=\"white\" stroke=\"none\" points=\"-4,4 -4,-127 238.29,-127 238.29,4 -4,4\"/>\n<!-- {} -->\n<g id=\"node1\" class=\"node\">\n<title>{}</title>\n<ellipse fill=\"none\" stroke=\"black\" cx=\"117.15\" cy=\"-105\" rx=\"27\" ry=\"18\"/>\n<text text-anchor=\"middle\" x=\"117.15\" y=\"-101.3\" font-family=\"Times,serif\" font-size=\"14.00\">{}</text>\n</g>\n<!-- {2, 2} -->\n<g id=\"node2\" class=\"node\">\n<title>{2, 2}</title>\n<ellipse fill=\"none\" stroke=\"black\" cx=\"33.15\" cy=\"-18\" rx=\"33.29\" ry=\"18\"/>\n<text text-anchor=\"middle\" x=\"33.15\" y=\"-14.3\" font-family=\"Times,serif\" font-size=\"14.00\">{2, 2}</text>\n</g>\n<!-- {}&#45;&gt;{2, 2} -->\n<g id=\"edge1\" class=\"edge\">\n<title>{}-&gt;{2, 2}</title>\n<path fill=\"none\" stroke=\"black\" d=\"M102.9,-89.58C90.1,-76.63 71.09,-57.39 56.14,-42.27\"/>\n<polygon fill=\"black\" stroke=\"black\" points=\"58.9,-40.08 49.38,-35.43 53.92,-45 58.9,-40.08\"/>\n<text text-anchor=\"middle\" x=\"93.65\" y=\"-57.8\" font-family=\"Times,serif\" font-size=\"14.00\">0.81</text>\n</g>\n<!-- {2, 4} -->\n<g id=\"node3\" class=\"node\">\n<title>{2, 4}</title>\n<ellipse fill=\"none\" stroke=\"black\" cx=\"117.15\" cy=\"-18\" rx=\"33.29\" ry=\"18\"/>\n<text text-anchor=\"middle\" x=\"117.15\" y=\"-14.3\" font-family=\"Times,serif\" font-size=\"14.00\">{2, 4}</text>\n</g>\n<!-- {}&#45;&gt;{2, 4} -->\n<g id=\"edge2\" class=\"edge\">\n<title>{}-&gt;{2, 4}</title>\n<path fill=\"none\" stroke=\"black\" d=\"M117.15,-86.8C117.15,-75.58 117.15,-60.67 117.15,-47.69\"/>\n<polygon fill=\"black\" stroke=\"black\" points=\"120.65,-47.98 117.15,-37.98 113.65,-47.98 120.65,-47.98\"/>\n<text text-anchor=\"middle\" x=\"129.65\" y=\"-57.8\" font-family=\"Times,serif\" font-size=\"14.00\">0.18</text>\n</g>\n<!-- {4, 4} -->\n<g id=\"node4\" class=\"node\">\n<title>{4, 4}</title>\n<ellipse fill=\"none\" stroke=\"black\" cx=\"201.15\" cy=\"-18\" rx=\"33.29\" ry=\"18\"/>\n<text text-anchor=\"middle\" x=\"201.15\" y=\"-14.3\" font-family=\"Times,serif\" font-size=\"14.00\">{4, 4}</text>\n</g>\n<!-- {}&#45;&gt;{4, 4} -->\n<g id=\"edge3\" class=\"edge\">\n<title>{}-&gt;{4, 4}</title>\n<path fill=\"none\" stroke=\"black\" d=\"M131.4,-89.58C144.19,-76.63 163.21,-57.39 178.16,-42.27\"/>\n<polygon fill=\"black\" stroke=\"black\" points=\"180.37,-45 184.91,-35.43 175.39,-40.08 180.37,-45\"/>\n<text text-anchor=\"middle\" x=\"176.65\" y=\"-57.8\" font-family=\"Times,serif\" font-size=\"14.00\">0.01</text>\n</g>\n</g>\n</svg>",
      "text/plain": [
       "<IPython.core.display.SVG object>"
      ]
     },
     "execution_count": 2,
     "metadata": {},
     "output_type": "execute_result"
    }
   ],
   "source": [
    "%%dot\n",
    "\n",
    "digraph G {\n",
    "    \"{}\" -> \"{2, 2}\" [label=0.81]\n",
    "    \"{}\" -> \"{2, 4}\" [label=0.18]\n",
    "    \"{}\" -> \"{4, 4}\" [label=0.01]\n",
    "}"
   ]
  }
 ],
 "metadata": {
  "kernelspec": {
   "display_name": "Python 3.8.3 64-bit",
   "language": "python",
   "name": "python3"
  },
  "language_info": {
   "codemirror_mode": {
    "name": "ipython",
    "version": 3
   },
   "file_extension": ".py",
   "mimetype": "text/x-python",
   "name": "python",
   "nbconvert_exporter": "python",
   "pygments_lexer": "ipython3",
   "version": "3.8.3"
  },
  "orig_nbformat": 4,
  "vscode": {
   "interpreter": {
    "hash": "aee8b7b246df8f9039afb4144a1f6fd8d2ca17a180786b69acc140d282b71a49"
   }
  }
 },
 "nbformat": 4,
 "nbformat_minor": 2
}
