{
 "cells": [
  {
   "cell_type": "code",
   "execution_count": 2,
   "metadata": {},
   "outputs": [],
   "source": [
    "%load_ext dotmagic"
   ]
  },
  {
   "cell_type": "code",
   "execution_count": 3,
   "metadata": {},
   "outputs": [
    {
     "data": {
      "image/svg+xml": "<svg xmlns=\"http://www.w3.org/2000/svg\" xmlns:xlink=\"http://www.w3.org/1999/xlink\" width=\"189pt\" height=\"152pt\" viewBox=\"0.00 0.00 189.29 152.00\">\n<g id=\"graph0\" class=\"graph\" transform=\"scale(1 1) rotate(0) translate(4 148)\">\n<title>G</title>\n<polygon fill=\"white\" stroke=\"none\" points=\"-4,4 -4,-148 185.29,-148 185.29,4 -4,4\"/>\n<!-- {} -->\n<g id=\"node1\" class=\"node\">\n<title>{}</title>\n<ellipse fill=\"none\" stroke=\"black\" cx=\"27\" cy=\"-72\" rx=\"27\" ry=\"18\"/>\n<text text-anchor=\"middle\" x=\"27\" y=\"-68.3\" font-family=\"Times,serif\" font-size=\"14.00\">{}</text>\n</g>\n<!-- {2, 2} -->\n<g id=\"node2\" class=\"node\">\n<title>{2, 2}</title>\n<ellipse fill=\"none\" stroke=\"black\" cx=\"148.15\" cy=\"-126\" rx=\"33.29\" ry=\"18\"/>\n<text text-anchor=\"middle\" x=\"148.15\" y=\"-122.3\" font-family=\"Times,serif\" font-size=\"14.00\">{2, 2}</text>\n</g>\n<!-- {}&#45;&gt;{2, 2} -->\n<g id=\"edge1\" class=\"edge\">\n<title>{}-&gt;{2, 2}</title>\n<path fill=\"none\" stroke=\"black\" d=\"M49.85,-81.9C67.17,-89.75 91.7,-100.87 111.79,-109.98\"/>\n<polygon fill=\"black\" stroke=\"black\" points=\"110.2,-113.1 120.76,-114.04 113.09,-106.72 110.2,-113.1\"/>\n<text text-anchor=\"middle\" x=\"84.5\" y=\"-105.8\" font-family=\"Times,serif\" font-size=\"14.00\">0.81</text>\n</g>\n<!-- {2, 4} -->\n<g id=\"node3\" class=\"node\">\n<title>{2, 4}</title>\n<ellipse fill=\"none\" stroke=\"black\" cx=\"148.15\" cy=\"-72\" rx=\"33.29\" ry=\"18\"/>\n<text text-anchor=\"middle\" x=\"148.15\" y=\"-68.3\" font-family=\"Times,serif\" font-size=\"14.00\">{2, 4}</text>\n</g>\n<!-- {}&#45;&gt;{2, 4} -->\n<g id=\"edge2\" class=\"edge\">\n<title>{}-&gt;{2, 4}</title>\n<path fill=\"none\" stroke=\"black\" d=\"M54.44,-72C68.68,-72 86.61,-72 102.9,-72\"/>\n<polygon fill=\"black\" stroke=\"black\" points=\"102.88,-75.5 112.88,-72 102.88,-68.5 102.88,-75.5\"/>\n<text text-anchor=\"middle\" x=\"84.5\" y=\"-75.8\" font-family=\"Times,serif\" font-size=\"14.00\">0.18</text>\n</g>\n<!-- {4, 4} -->\n<g id=\"node4\" class=\"node\">\n<title>{4, 4}</title>\n<ellipse fill=\"none\" stroke=\"black\" cx=\"148.15\" cy=\"-18\" rx=\"33.29\" ry=\"18\"/>\n<text text-anchor=\"middle\" x=\"148.15\" y=\"-14.3\" font-family=\"Times,serif\" font-size=\"14.00\">{4, 4}</text>\n</g>\n<!-- {}&#45;&gt;{4, 4} -->\n<g id=\"edge3\" class=\"edge\">\n<title>{}-&gt;{4, 4}</title>\n<path fill=\"none\" stroke=\"black\" d=\"M49.85,-62.1C67.17,-54.25 91.7,-43.13 111.79,-34.02\"/>\n<polygon fill=\"black\" stroke=\"black\" points=\"113.09,-37.28 120.76,-29.96 110.2,-30.9 113.09,-37.28\"/>\n<text text-anchor=\"middle\" x=\"84.5\" y=\"-54.8\" font-family=\"Times,serif\" font-size=\"14.00\">0.01</text>\n</g>\n</g>\n</svg>",
      "text/plain": [
       "<IPython.core.display.SVG object>"
      ]
     },
     "execution_count": 3,
     "metadata": {},
     "output_type": "execute_result"
    }
   ],
   "source": [
    "%%dot\n",
    "\n",
    "digraph G {\n",
    "    rankdir = \"LR\";\n",
    "    \"{}\" -> \"{2, 2}\" [label=0.81]\n",
    "    \"{}\" -> \"{2, 4}\" [label=0.18]\n",
    "    \"{}\" -> \"{4, 4}\" [label=0.01]\n",
    "}"
   ]
  },
  {
   "cell_type": "code",
   "execution_count": 5,
   "metadata": {},
   "outputs": [
    {
     "data": {
      "image/svg+xml": "<svg xmlns=\"http://www.w3.org/2000/svg\" xmlns:xlink=\"http://www.w3.org/1999/xlink\" width=\"195pt\" height=\"98pt\" viewBox=\"0.00 0.00 194.59 98.00\">\n<g id=\"graph0\" class=\"graph\" transform=\"scale(1 1) rotate(0) translate(4 94)\">\n<title>G</title>\n<polygon fill=\"white\" stroke=\"none\" points=\"-4,4 -4,-94 190.59,-94 190.59,4 -4,4\"/>\n<!-- {2, 2} -->\n<g id=\"node1\" class=\"node\">\n<title>{2, 2}</title>\n<ellipse fill=\"none\" stroke=\"black\" cx=\"33.15\" cy=\"-45\" rx=\"33.29\" ry=\"18\"/>\n<text text-anchor=\"middle\" x=\"33.15\" y=\"-41.3\" font-family=\"Times,serif\" font-size=\"14.00\">{2, 2}</text>\n</g>\n<!-- {2, 4} -->\n<g id=\"node2\" class=\"node\">\n<title>{2, 4}</title>\n<ellipse fill=\"none\" stroke=\"black\" cx=\"153.44\" cy=\"-72\" rx=\"33.29\" ry=\"18\"/>\n<text text-anchor=\"middle\" x=\"153.44\" y=\"-68.3\" font-family=\"Times,serif\" font-size=\"14.00\">{2, 4}</text>\n</g>\n<!-- {2, 2}&#45;&gt;{2, 4} -->\n<g id=\"edge1\" class=\"edge\">\n<title>{2, 2}-&gt;{2, 4}</title>\n<path fill=\"none\" stroke=\"black\" d=\"M64.3,-51.88C78.63,-55.15 95.96,-59.11 111.45,-62.64\"/>\n<polygon fill=\"black\" stroke=\"black\" points=\"110.34,-65.98 120.86,-64.79 111.89,-59.16 110.34,-65.98\"/>\n<text text-anchor=\"middle\" x=\"93.29\" y=\"-63.8\" font-family=\"Times,serif\" font-size=\"14.00\">0.9</text>\n</g>\n<!-- {4, 4} -->\n<g id=\"node3\" class=\"node\">\n<title>{4, 4}</title>\n<ellipse fill=\"none\" stroke=\"black\" cx=\"153.44\" cy=\"-18\" rx=\"33.29\" ry=\"18\"/>\n<text text-anchor=\"middle\" x=\"153.44\" y=\"-14.3\" font-family=\"Times,serif\" font-size=\"14.00\">{4, 4}</text>\n</g>\n<!-- {2, 2}&#45;&gt;{4, 4} -->\n<g id=\"edge2\" class=\"edge\">\n<title>{2, 2}-&gt;{4, 4}</title>\n<path fill=\"none\" stroke=\"black\" d=\"M64.3,-38.12C78.63,-34.85 95.96,-30.89 111.45,-27.36\"/>\n<polygon fill=\"black\" stroke=\"black\" points=\"111.89,-30.84 120.86,-25.21 110.34,-24.02 111.89,-30.84\"/>\n<text text-anchor=\"middle\" x=\"93.29\" y=\"-36.8\" font-family=\"Times,serif\" font-size=\"14.00\">0.1</text>\n</g>\n</g>\n</svg>",
      "text/plain": [
       "<IPython.core.display.SVG object>"
      ]
     },
     "execution_count": 5,
     "metadata": {},
     "output_type": "execute_result"
    }
   ],
   "source": [
    "%%dot\n",
    "\n",
    "digraph G {\n",
    "    rankdir = \"LR\";\n",
    "    \"{2, 2}\" -> \"{2, 4}\" [label=0.9]\n",
    "    \"{2, 2}\" -> \"{4, 4}\" [label=0.1]\n",
    "}"
   ]
  },
  {
   "cell_type": "code",
   "execution_count": 23,
   "metadata": {},
   "outputs": [
    {
     "data": {
      "image/svg+xml": "<svg xmlns=\"http://www.w3.org/2000/svg\" xmlns:xlink=\"http://www.w3.org/1999/xlink\" width=\"659pt\" height=\"338pt\" viewBox=\"0.00 0.00 659.35 338.00\">\n<g id=\"graph0\" class=\"graph\" transform=\"scale(1 1) rotate(0) translate(4 334)\">\n<title>G</title>\n<polygon fill=\"white\" stroke=\"none\" points=\"-4,4 -4,-334 655.35,-334 655.35,4 -4,4\"/>\n<!-- {2, 4, 8, 512, 512, 1024} -->\n<g id=\"node1\" class=\"node\">\n<title>{2, 4, 8, 512, 512, 1024}</title>\n<ellipse fill=\"none\" stroke=\"black\" cx=\"100.74\" cy=\"-148\" rx=\"100.98\" ry=\"18\"/>\n<text text-anchor=\"middle\" x=\"100.74\" y=\"-144.3\" font-family=\"Times,serif\" font-size=\"14.00\">{2, 4, 8, 512, 512, 1024}</text>\n</g>\n<!-- {2, 2, 4, 8, 1024, 1024} -->\n<g id=\"node2\" class=\"node\">\n<title>{2, 2, 4, 8, 1024, 1024}</title>\n<ellipse fill=\"none\" stroke=\"black\" cx=\"352.32\" cy=\"-192\" rx=\"96.68\" ry=\"18\"/>\n<text text-anchor=\"middle\" x=\"352.32\" y=\"-188.3\" font-family=\"Times,serif\" font-size=\"14.00\">{2, 2, 4, 8, 1024, 1024}</text>\n</g>\n<!-- {2, 4, 8, 512, 512, 1024}&#45;&gt;{2, 2, 4, 8, 1024, 1024} -->\n<g id=\"edge1\" class=\"edge\">\n<title>{2, 4, 8, 512, 512, 1024}-&gt;{2, 2, 4, 8, 1024, 1024}</title>\n<path fill=\"none\" stroke=\"black\" d=\"M173.93,-160.73C203.81,-165.99 238.6,-172.13 269.43,-177.56\"/>\n<polygon fill=\"black\" stroke=\"black\" points=\"268.64,-180.98 279.1,-179.27 269.86,-174.08 268.64,-180.98\"/>\n<text text-anchor=\"middle\" x=\"228.48\" y=\"-174.8\" font-family=\"Times,serif\" font-size=\"14.00\">0.9</text>\n</g>\n<!-- {2, 4, 4, 8, 1024, 1024} -->\n<g id=\"node5\" class=\"node\">\n<title>{2, 4, 4, 8, 1024, 1024}</title>\n<ellipse fill=\"none\" stroke=\"black\" cx=\"352.32\" cy=\"-105\" rx=\"96.68\" ry=\"18\"/>\n<text text-anchor=\"middle\" x=\"352.32\" y=\"-101.3\" font-family=\"Times,serif\" font-size=\"14.00\">{2, 4, 4, 8, 1024, 1024}</text>\n</g>\n<!-- {2, 4, 8, 512, 512, 1024}&#45;&gt;{2, 4, 4, 8, 1024, 1024} -->\n<g id=\"edge4\" class=\"edge\">\n<title>{2, 4, 8, 512, 512, 1024}-&gt;{2, 4, 4, 8, 1024, 1024}</title>\n<path fill=\"none\" stroke=\"black\" d=\"M174.94,-135.39C204.4,-130.31 238.52,-124.43 268.86,-119.21\"/>\n<polygon fill=\"black\" stroke=\"black\" points=\"269.1,-122.72 278.36,-117.57 267.91,-115.82 269.1,-122.72\"/>\n<text text-anchor=\"middle\" x=\"228.48\" y=\"-129.8\" font-family=\"Times,serif\" font-size=\"14.00\">0.1</text>\n</g>\n<!-- {2, 4, 4, 8, 2048} -->\n<g id=\"node3\" class=\"node\">\n<title>{2, 4, 4, 8, 2048}</title>\n<ellipse fill=\"none\" stroke=\"black\" cx=\"577.26\" cy=\"-279\" rx=\"74.19\" ry=\"18\"/>\n<text text-anchor=\"middle\" x=\"577.26\" y=\"-275.3\" font-family=\"Times,serif\" font-size=\"14.00\">{2, 4, 4, 8, 2048}</text>\n</g>\n<!-- {2, 2, 4, 8, 1024, 1024}&#45;&gt;{2, 4, 4, 8, 2048} -->\n<g id=\"edge2\" class=\"edge\">\n<title>{2, 2, 4, 8, 1024, 1024}-&gt;{2, 4, 4, 8, 2048}</title>\n<path fill=\"none\" stroke=\"black\" d=\"M393.91,-208.6C423.99,-220.81 466.03,-237.71 503.16,-252 510.04,-254.64 517.29,-257.38 524.45,-260.06\"/>\n<polygon fill=\"black\" stroke=\"black\" points=\"522.81,-263.18 533.4,-263.39 525.25,-256.62 522.81,-263.18\"/>\n<text text-anchor=\"middle\" x=\"476.16\" y=\"-247.8\" font-family=\"Times,serif\" font-size=\"14.00\">0.9</text>\n</g>\n<!-- {4, 4, 4, 8, 2048} -->\n<g id=\"node4\" class=\"node\">\n<title>{4, 4, 4, 8, 2048}</title>\n<ellipse fill=\"none\" stroke=\"black\" cx=\"577.26\" cy=\"-192\" rx=\"74.19\" ry=\"18\"/>\n<text text-anchor=\"middle\" x=\"577.26\" y=\"-188.3\" font-family=\"Times,serif\" font-size=\"14.00\">{4, 4, 4, 8, 2048}</text>\n</g>\n<!-- {2, 2, 4, 8, 1024, 1024}&#45;&gt;{4, 4, 4, 8, 2048} -->\n<g id=\"edge3\" class=\"edge\">\n<title>{2, 2, 4, 8, 1024, 1024}-&gt;{4, 4, 4, 8, 2048}</title>\n<path fill=\"none\" stroke=\"black\" d=\"M449.49,-192C463.39,-192 477.61,-192 491.28,-192\"/>\n<polygon fill=\"black\" stroke=\"black\" points=\"491.09,-195.5 501.09,-192 491.09,-188.5 491.09,-195.5\"/>\n<text text-anchor=\"middle\" x=\"476.16\" y=\"-195.8\" font-family=\"Times,serif\" font-size=\"14.00\">0.1</text>\n</g>\n<!-- {2, 4, 4, 8, 2048}&#45;&gt;{2, 4, 4, 8, 2048} -->\n<g id=\"edge10\" class=\"edge\">\n<title>{2, 4, 4, 8, 2048}-&gt;{2, 4, 4, 8, 2048}</title>\n<path fill=\"none\" stroke=\"black\" d=\"M559.09,-296.78C556,-306.31 562.05,-315 577.26,-315 585.81,-315 591.47,-312.25 594.23,-308.15\"/>\n<polygon fill=\"black\" stroke=\"black\" points=\"597.7,-308.6 595.27,-298.29 590.74,-307.86 597.7,-308.6\"/>\n<text text-anchor=\"middle\" x=\"577.26\" y=\"-318.8\" font-family=\"Times,serif\" font-size=\"14.00\">1</text>\n</g>\n<!-- {4, 4, 4, 8, 2048}&#45;&gt;{4, 4, 4, 8, 2048} -->\n<g id=\"edge9\" class=\"edge\">\n<title>{4, 4, 4, 8, 2048}-&gt;{4, 4, 4, 8, 2048}</title>\n<path fill=\"none\" stroke=\"black\" d=\"M559.09,-209.78C556,-219.31 562.05,-228 577.26,-228 585.81,-228 591.47,-225.25 594.23,-221.15\"/>\n<polygon fill=\"black\" stroke=\"black\" points=\"597.7,-221.6 595.27,-211.29 590.74,-220.86 597.7,-221.6\"/>\n<text text-anchor=\"middle\" x=\"577.26\" y=\"-231.8\" font-family=\"Times,serif\" font-size=\"14.00\">1</text>\n</g>\n<!-- {2, 2, 8, 8, 2048} -->\n<g id=\"node6\" class=\"node\">\n<title>{2, 2, 8, 8, 2048}</title>\n<ellipse fill=\"none\" stroke=\"black\" cx=\"577.26\" cy=\"-105\" rx=\"74.19\" ry=\"18\"/>\n<text text-anchor=\"middle\" x=\"577.26\" y=\"-101.3\" font-family=\"Times,serif\" font-size=\"14.00\">{2, 2, 8, 8, 2048}</text>\n</g>\n<!-- {2, 4, 4, 8, 1024, 1024}&#45;&gt;{2, 2, 8, 8, 2048} -->\n<g id=\"edge5\" class=\"edge\">\n<title>{2, 4, 4, 8, 1024, 1024}-&gt;{2, 2, 8, 8, 2048}</title>\n<path fill=\"none\" stroke=\"black\" d=\"M449.49,-105C463.39,-105 477.61,-105 491.28,-105\"/>\n<polygon fill=\"black\" stroke=\"black\" points=\"491.09,-108.5 501.09,-105 491.09,-101.5 491.09,-108.5\"/>\n<text text-anchor=\"middle\" x=\"476.16\" y=\"-108.8\" font-family=\"Times,serif\" font-size=\"14.00\">0.9</text>\n</g>\n<!-- {2, 4, 8, 8, 2048} -->\n<g id=\"node7\" class=\"node\">\n<title>{2, 4, 8, 8, 2048}</title>\n<ellipse fill=\"none\" stroke=\"black\" cx=\"577.26\" cy=\"-18\" rx=\"74.19\" ry=\"18\"/>\n<text text-anchor=\"middle\" x=\"577.26\" y=\"-14.3\" font-family=\"Times,serif\" font-size=\"14.00\">{2, 4, 8, 8, 2048}</text>\n</g>\n<!-- {2, 4, 4, 8, 1024, 1024}&#45;&gt;{2, 4, 8, 8, 2048} -->\n<g id=\"edge6\" class=\"edge\">\n<title>{2, 4, 4, 8, 1024, 1024}-&gt;{2, 4, 8, 8, 2048}</title>\n<path fill=\"none\" stroke=\"black\" d=\"M395.52,-88.53C432.67,-74.03 486.84,-52.9 526.18,-37.54\"/>\n<polygon fill=\"black\" stroke=\"black\" points=\"527.4,-40.82 535.44,-33.93 524.86,-34.3 527.4,-40.82\"/>\n<text text-anchor=\"middle\" x=\"476.16\" y=\"-61.8\" font-family=\"Times,serif\" font-size=\"14.00\">0.1</text>\n</g>\n<!-- {2, 2, 8, 8, 2048}&#45;&gt;{2, 2, 8, 8, 2048} -->\n<g id=\"edge8\" class=\"edge\">\n<title>{2, 2, 8, 8, 2048}-&gt;{2, 2, 8, 8, 2048}</title>\n<path fill=\"none\" stroke=\"black\" d=\"M559.09,-122.78C556,-132.31 562.05,-141 577.26,-141 585.81,-141 591.47,-138.25 594.23,-134.15\"/>\n<polygon fill=\"black\" stroke=\"black\" points=\"597.7,-134.6 595.27,-124.29 590.74,-133.86 597.7,-134.6\"/>\n<text text-anchor=\"middle\" x=\"577.26\" y=\"-144.8\" font-family=\"Times,serif\" font-size=\"14.00\">1</text>\n</g>\n<!-- {2, 4, 8, 8, 2048}&#45;&gt;{2, 4, 8, 8, 2048} -->\n<g id=\"edge7\" class=\"edge\">\n<title>{2, 4, 8, 8, 2048}-&gt;{2, 4, 8, 8, 2048}</title>\n<path fill=\"none\" stroke=\"black\" d=\"M559.09,-35.78C556,-45.31 562.05,-54 577.26,-54 585.81,-54 591.47,-51.25 594.23,-47.15\"/>\n<polygon fill=\"black\" stroke=\"black\" points=\"597.7,-47.6 595.27,-37.29 590.74,-46.86 597.7,-47.6\"/>\n<text text-anchor=\"middle\" x=\"577.26\" y=\"-57.8\" font-family=\"Times,serif\" font-size=\"14.00\">1</text>\n</g>\n</g>\n</svg>",
      "text/plain": [
       "<IPython.core.display.SVG object>"
      ]
     },
     "execution_count": 23,
     "metadata": {},
     "output_type": "execute_result"
    }
   ],
   "source": [
    "%%dot\n",
    "\n",
    "digraph G {\n",
    "    rankdir = \"LR\";\n",
    "    \"{2, 4, 8, 512, 512, 1024}\" -> \"{2, 2, 4, 8, 1024, 1024}\" [label=0.9]\n",
    "    \"{2, 2, 4, 8, 1024, 1024}\" -> \"{2, 4, 4, 8, 2048}\" [label=0.9]\n",
    "    \"{2, 2, 4, 8, 1024, 1024}\" -> \"{4, 4, 4, 8, 2048}\" [label=0.1]\n",
    "    \"{2, 4, 8, 512, 512, 1024}\" -> \"{2, 4, 4, 8, 1024, 1024}\" [label=0.1]\n",
    "    \"{2, 4, 4, 8, 1024, 1024}\" -> \"{2, 2, 8, 8, 2048}\" [label=0.9]\n",
    "    \"{2, 4, 4, 8, 1024, 1024}\" -> \"{2, 4, 8, 8, 2048}\" [label=0.1]\n",
    "    \"{2, 4, 8, 8, 2048}\" -> \"{2, 4, 8, 8, 2048}\" [label=1]\n",
    "    \"{2, 2, 8, 8, 2048}\" -> \"{2, 2, 8, 8, 2048}\" [label=1]\n",
    "    \"{4, 4, 4, 8, 2048}\" -> \"{4, 4, 4, 8, 2048}\" [label=1]\n",
    "    \"{2, 4, 4, 8, 2048}\" -> \"{2, 4, 4, 8, 2048}\" [label=1]\n",
    "}"
   ]
  },
  {
   "cell_type": "code",
   "execution_count": 20,
   "metadata": {},
   "outputs": [
    {
     "data": {
      "image/svg+xml": "<svg xmlns=\"http://www.w3.org/2000/svg\" xmlns:xlink=\"http://www.w3.org/1999/xlink\" width=\"278pt\" height=\"171pt\" viewBox=\"0.00 0.00 278.00 171.00\">\n<g id=\"graph0\" class=\"graph\" transform=\"scale(1 1) rotate(0) translate(4 167)\">\n<title>G</title>\n<polygon fill=\"white\" stroke=\"none\" points=\"-4,4 -4,-167 274,-167 274,4 -4,4\"/>\n<!-- 0 -->\n<g id=\"node1\" class=\"node\">\n<title>0</title>\n<ellipse fill=\"none\" stroke=\"black\" cx=\"27\" cy=\"-62\" rx=\"27\" ry=\"18\"/>\n<text text-anchor=\"middle\" x=\"27\" y=\"-58.3\" font-family=\"Times,serif\" font-size=\"14.00\">0</text>\n</g>\n<!-- 1 -->\n<g id=\"node2\" class=\"node\">\n<title>1</title>\n<ellipse fill=\"none\" stroke=\"black\" cx=\"135\" cy=\"-89\" rx=\"27\" ry=\"18\"/>\n<text text-anchor=\"middle\" x=\"135\" y=\"-85.3\" font-family=\"Times,serif\" font-size=\"14.00\">1</text>\n</g>\n<!-- 0&#45;&gt;1 -->\n<g id=\"edge1\" class=\"edge\">\n<title>0-&gt;1</title>\n<path fill=\"none\" stroke=\"black\" d=\"M52.58,-68.26C66.13,-71.71 83.2,-76.06 98.2,-79.88\"/>\n<polygon fill=\"black\" stroke=\"black\" points=\"97.16,-83.23 107.71,-82.3 98.89,-76.44 97.16,-83.23\"/>\n<text text-anchor=\"middle\" x=\"81\" y=\"-80.8\" font-family=\"Times,serif\" font-size=\"14.00\">0.1</text>\n</g>\n<!-- 2 -->\n<g id=\"node3\" class=\"node\">\n<title>2</title>\n<ellipse fill=\"none\" stroke=\"black\" cx=\"135\" cy=\"-35\" rx=\"27\" ry=\"18\"/>\n<text text-anchor=\"middle\" x=\"135\" y=\"-31.3\" font-family=\"Times,serif\" font-size=\"14.00\">2</text>\n</g>\n<!-- 0&#45;&gt;2 -->\n<g id=\"edge2\" class=\"edge\">\n<title>0-&gt;2</title>\n<path fill=\"none\" stroke=\"black\" d=\"M52.58,-55.74C66.13,-52.29 83.2,-47.94 98.2,-44.12\"/>\n<polygon fill=\"black\" stroke=\"black\" points=\"98.89,-47.56 107.71,-41.7 97.16,-40.77 98.89,-47.56\"/>\n<text text-anchor=\"middle\" x=\"81\" y=\"-53.8\" font-family=\"Times,serif\" font-size=\"14.00\">0.9</text>\n</g>\n<!-- 3 -->\n<g id=\"node4\" class=\"node\">\n<title>3</title>\n<ellipse fill=\"none\" stroke=\"black\" cx=\"243\" cy=\"-112\" rx=\"27\" ry=\"18\"/>\n<text text-anchor=\"middle\" x=\"243\" y=\"-108.3\" font-family=\"Times,serif\" font-size=\"14.00\">3</text>\n</g>\n<!-- 1&#45;&gt;3 -->\n<g id=\"edge3\" class=\"edge\">\n<title>1-&gt;3</title>\n<path fill=\"none\" stroke=\"black\" d=\"M161.12,-94.45C174.59,-97.37 191.41,-101.02 206.22,-104.24\"/>\n<polygon fill=\"black\" stroke=\"black\" points=\"205.07,-107.57 215.58,-106.27 206.55,-100.73 205.07,-107.57\"/>\n<text text-anchor=\"middle\" x=\"189\" y=\"-104.8\" font-family=\"Times,serif\" font-size=\"14.00\">0.9</text>\n</g>\n<!-- 4 -->\n<g id=\"node5\" class=\"node\">\n<title>4</title>\n<ellipse fill=\"none\" stroke=\"black\" cx=\"243\" cy=\"-18\" rx=\"27\" ry=\"18\"/>\n<text text-anchor=\"middle\" x=\"243\" y=\"-14.3\" font-family=\"Times,serif\" font-size=\"14.00\">4</text>\n</g>\n<!-- 1&#45;&gt;4 -->\n<g id=\"edge4\" class=\"edge\">\n<title>1-&gt;4</title>\n<path fill=\"none\" stroke=\"black\" d=\"M158.69,-79.98C170.84,-74.68 185.77,-67.38 198,-59 205.63,-53.77 213.25,-47.25 219.95,-40.96\"/>\n<polygon fill=\"black\" stroke=\"black\" points=\"222.08,-43.77 226.8,-34.29 217.2,-38.76 222.08,-43.77\"/>\n<text text-anchor=\"middle\" x=\"189\" y=\"-72.8\" font-family=\"Times,serif\" font-size=\"14.00\">0.1</text>\n</g>\n<!-- 2&#45;&gt;3 -->\n<g id=\"edge6\" class=\"edge\">\n<title>2-&gt;3</title>\n<path fill=\"none\" stroke=\"black\" d=\"M161.79,-31.47C173.76,-31.16 187.6,-32.82 198,-40 213.38,-50.62 206.27,-62.04 216,-78 217.84,-81.01 219.89,-84.08 222.01,-87.07\"/>\n<polygon fill=\"black\" stroke=\"black\" points=\"219.16,-89.1 227.94,-95.02 224.77,-84.92 219.16,-89.1\"/>\n<text text-anchor=\"middle\" x=\"189\" y=\"-43.8\" font-family=\"Times,serif\" font-size=\"14.00\">0.1</text>\n</g>\n<!-- 2&#45;&gt;4 -->\n<g id=\"edge5\" class=\"edge\">\n<title>2-&gt;4</title>\n<path fill=\"none\" stroke=\"black\" d=\"M152.37,-20.9C160.19,-15.07 170.01,-9 180,-6 189.18,-3.25 199.33,-3.77 208.7,-5.66\"/>\n<polygon fill=\"black\" stroke=\"black\" points=\"207.62,-9 218.18,-8.13 209.38,-2.22 207.62,-9\"/>\n<text text-anchor=\"middle\" x=\"189\" y=\"-9.8\" font-family=\"Times,serif\" font-size=\"14.00\">0.9</text>\n</g>\n<!-- 3&#45;&gt;3 -->\n<g id=\"edge7\" class=\"edge\">\n<title>3-&gt;3</title>\n<path fill=\"none\" stroke=\"black\" d=\"M233.43,-129.04C231.48,-138.86 234.67,-148 243,-148 247.82,-148 250.92,-144.94 252.29,-140.47\"/>\n<polygon fill=\"black\" stroke=\"black\" points=\"255.79,-140.63 252.53,-130.55 248.79,-140.46 255.79,-140.63\"/>\n<text text-anchor=\"middle\" x=\"243\" y=\"-151.8\" font-family=\"Times,serif\" font-size=\"14.00\">1</text>\n</g>\n<!-- 4&#45;&gt;4 -->\n<g id=\"edge8\" class=\"edge\">\n<title>4-&gt;4</title>\n<path fill=\"none\" stroke=\"black\" d=\"M233.43,-35.04C231.48,-44.86 234.67,-54 243,-54 247.82,-54 250.92,-50.94 252.29,-46.47\"/>\n<polygon fill=\"black\" stroke=\"black\" points=\"255.79,-46.63 252.53,-36.55 248.79,-46.46 255.79,-46.63\"/>\n<text text-anchor=\"middle\" x=\"243\" y=\"-57.8\" font-family=\"Times,serif\" font-size=\"14.00\">1</text>\n</g>\n</g>\n</svg>",
      "text/plain": [
       "<IPython.core.display.SVG object>"
      ]
     },
     "execution_count": 20,
     "metadata": {},
     "output_type": "execute_result"
    }
   ],
   "source": [
    "%%dot\n",
    "\n",
    "digraph G {\n",
    "    rankdir = \"LR\";\n",
    "    0 -> 1 [label=0.1]\n",
    "    0 -> 2 [label=0.9]\n",
    "    1 -> 3 [label=0.9]\n",
    "    1 -> 4 [label=0.1]\n",
    "    2 -> 4 [label=0.9]\n",
    "    2 -> 3 [label=0.1]\n",
    "    3 -> 3 [label=1]\n",
    "    4 -> 4 [label=1]\n",
    "}"
   ]
  }
 ],
 "metadata": {
  "kernelspec": {
   "display_name": "Python 3.10.8 64-bit",
   "language": "python",
   "name": "python3"
  },
  "language_info": {
   "codemirror_mode": {
    "name": "ipython",
    "version": 3
   },
   "file_extension": ".py",
   "mimetype": "text/x-python",
   "name": "python",
   "nbconvert_exporter": "python",
   "pygments_lexer": "ipython3",
   "version": "3.10.8"
  },
  "orig_nbformat": 4,
  "vscode": {
   "interpreter": {
    "hash": "b0fa6594d8f4cbf19f97940f81e996739fb7646882a419484c72d19e05852a7e"
   }
  }
 },
 "nbformat": 4,
 "nbformat_minor": 2
}
